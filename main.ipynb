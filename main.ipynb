{
 "cells": [
  {
   "cell_type": "code",
   "execution_count": 19,
   "metadata": {},
   "outputs": [],
   "source": [
    "# !pip install pyautogui keyboard"
   ]
  },
  {
   "cell_type": "code",
   "execution_count": 27,
   "metadata": {},
   "outputs": [],
   "source": [
    "import pyautogui\n",
    "import time\n",
    "\n",
    "def auto_type_with_pause(text, delay=0.4, pause_duration=2, ignore_newline=False):\n",
    "    \"\"\"\n",
    "    Hàm tự động gõ phím và xử lý xuống dòng tùy theo tham số ignore_newline.\n",
    "    :param text: Nội dung muốn gõ.\n",
    "    :param delay: Thời gian chờ giữa các ký tự.\n",
    "    :param pause_duration: Thời gian chờ khi gặp Enter.\n",
    "    :param ignore_newline: Nếu True, bỏ qua xuống dòng, gõ liên tục mà không gõ ký tự '\\n'.\n",
    "    \"\"\"\n",
    "    print(\"Chương trình sẽ bắt đầu sau 5 giây...\")\n",
    "    time.sleep(5)  # Đợi 5 giây để chuẩn bị\n",
    "\n",
    "    for i, char in enumerate(text):\n",
    "        # Nếu ký tự là '\\n' và ignore_newline=True thì bỏ qua\n",
    "        if ignore_newline and char == '\\n':\n",
    "            continue\n",
    "        \n",
    "        # Gõ ký tự\n",
    "        pyautogui.typewrite(char)\n",
    "        time.sleep(delay)  # Delay sau mỗi ký tự\n",
    "\n",
    "        # Nếu không bỏ qua newline và ký tự tiếp theo là '\\n', thì dừng\n",
    "        if not ignore_newline and i + 1 < len(text) and text[i + 1] == '\\n':\n",
    "            print(f\"Ký tự tiếp theo là xuống dòng, dừng lại {pause_duration} giây...\")\n",
    "            time.sleep(pause_duration)  # Dừng lại nếu ký tự tiếp theo là '\\n'\n",
    "\n",
    "    print(\"Hoàn thành gõ văn bản!\")\n"
   ]
  },
  {
   "cell_type": "code",
   "execution_count": 33,
   "metadata": {},
   "outputs": [
    {
     "name": "stdout",
     "output_type": "stream",
     "text": [
      "Chương trình sẽ bắt đầu sau 5 giây...\n",
      "Hoàn thành gõ văn bản!\n",
      "Chương trình sẽ bắt đầu sau 5 giây...\n",
      "Hoàn thành gõ văn bản!\n",
      "Chương trình sẽ bắt đầu sau 5 giây...\n",
      "Hoàn thành gõ văn bản!\n",
      "Chương trình sẽ bắt đầu sau 5 giây...\n",
      "Hoàn thành gõ văn bản!\n",
      "Chương trình sẽ bắt đầu sau 5 giây...\n",
      "Hoàn thành gõ văn bản!\n",
      "Chương trình sẽ bắt đầu sau 5 giây...\n"
     ]
    },
    {
     "ename": "KeyboardInterrupt",
     "evalue": "",
     "output_type": "error",
     "traceback": [
      "\u001b[1;31m---------------------------------------------------------------------------\u001b[0m",
      "\u001b[1;31mKeyboardInterrupt\u001b[0m                         Traceback (most recent call last)",
      "Cell \u001b[1;32mIn[33], line 17\u001b[0m\n\u001b[0;32m     14\u001b[0m \u001b[38;5;66;03m# Đường dẫn file cần gõ\u001b[39;00m\n\u001b[0;32m     15\u001b[0m \u001b[38;5;66;03m# file_path = r\"./example.txt\"\u001b[39;00m\n\u001b[0;32m     16\u001b[0m file_path \u001b[38;5;241m=\u001b[39m \u001b[38;5;124mr\u001b[39m\u001b[38;5;124m\"\u001b[39m\u001b[38;5;124mC:\u001b[39m\u001b[38;5;124m\\\u001b[39m\u001b[38;5;124mUsers\u001b[39m\u001b[38;5;124m\\\u001b[39m\u001b[38;5;124mthong\u001b[39m\u001b[38;5;124m\\\u001b[39m\u001b[38;5;124mworkplace\u001b[39m\u001b[38;5;124m\\\u001b[39m\u001b[38;5;124mIUH\u001b[39m\u001b[38;5;124m\\\u001b[39m\u001b[38;5;124m3RDYEARCOLLEGE\u001b[39m\u001b[38;5;124m\\\u001b[39m\u001b[38;5;124msemester-2\u001b[39m\u001b[38;5;124m\\\u001b[39m\u001b[38;5;124mKi_Nang_Su_Dung_Ban_Phim\u001b[39m\u001b[38;5;124m\\\u001b[39m\u001b[38;5;124mTypingMaster\u001b[39m\u001b[38;5;124m\\\u001b[39m\u001b[38;5;124mlessons\u001b[39m\u001b[38;5;124m\\\u001b[39m\u001b[38;5;124muk7qwert03012key2.txt\u001b[39m\u001b[38;5;124m\"\u001b[39m\n\u001b[1;32m---> 17\u001b[0m \u001b[43mauto_type_from_file\u001b[49m\u001b[43m(\u001b[49m\u001b[43mfile_path\u001b[49m\u001b[43m,\u001b[49m\u001b[43m \u001b[49m\u001b[43mdelay\u001b[49m\u001b[38;5;241;43m=\u001b[39;49m\u001b[38;5;241;43m0.01\u001b[39;49m\u001b[43m,\u001b[49m\u001b[43m \u001b[49m\u001b[43mrepeat\u001b[49m\u001b[38;5;241;43m=\u001b[39;49m\u001b[38;5;28;43;01mTrue\u001b[39;49;00m\u001b[43m)\u001b[49m\n\u001b[0;32m     18\u001b[0m \u001b[38;5;66;03m# auto_type_from_file(file_path)\u001b[39;00m\n",
      "Cell \u001b[1;32mIn[33], line 11\u001b[0m, in \u001b[0;36mauto_type_from_file\u001b[1;34m(file_path, delay, repeat)\u001b[0m\n\u001b[0;32m      8\u001b[0m     content \u001b[38;5;241m=\u001b[39m f\u001b[38;5;241m.\u001b[39mread()\n\u001b[0;32m     10\u001b[0m \u001b[38;5;28;01mwhile\u001b[39;00m repeat:\n\u001b[1;32m---> 11\u001b[0m     \u001b[43mauto_type_with_pause\u001b[49m\u001b[43m(\u001b[49m\u001b[43mcontent\u001b[49m\u001b[43m,\u001b[49m\u001b[43m \u001b[49m\u001b[43mdelay\u001b[49m\u001b[43m,\u001b[49m\u001b[43m \u001b[49m\u001b[43mignore_newline\u001b[49m\u001b[38;5;241;43m=\u001b[39;49m\u001b[43m \u001b[49m\u001b[38;5;28;43;01mTrue\u001b[39;49;00m\u001b[43m)\u001b[49m\n",
      "Cell \u001b[1;32mIn[27], line 22\u001b[0m, in \u001b[0;36mauto_type_with_pause\u001b[1;34m(text, delay, pause_duration, ignore_newline)\u001b[0m\n\u001b[0;32m     20\u001b[0m \u001b[38;5;66;03m# Gõ ký tự\u001b[39;00m\n\u001b[0;32m     21\u001b[0m pyautogui\u001b[38;5;241m.\u001b[39mtypewrite(char)\n\u001b[1;32m---> 22\u001b[0m \u001b[43mtime\u001b[49m\u001b[38;5;241;43m.\u001b[39;49m\u001b[43msleep\u001b[49m\u001b[43m(\u001b[49m\u001b[43mdelay\u001b[49m\u001b[43m)\u001b[49m  \u001b[38;5;66;03m# Delay sau mỗi ký tự\u001b[39;00m\n\u001b[0;32m     24\u001b[0m \u001b[38;5;66;03m# Nếu không bỏ qua newline và ký tự tiếp theo là '\\n', thì dừng\u001b[39;00m\n\u001b[0;32m     25\u001b[0m \u001b[38;5;28;01mif\u001b[39;00m \u001b[38;5;129;01mnot\u001b[39;00m ignore_newline \u001b[38;5;129;01mand\u001b[39;00m i \u001b[38;5;241m+\u001b[39m \u001b[38;5;241m1\u001b[39m \u001b[38;5;241m<\u001b[39m \u001b[38;5;28mlen\u001b[39m(text) \u001b[38;5;129;01mand\u001b[39;00m text[i \u001b[38;5;241m+\u001b[39m \u001b[38;5;241m1\u001b[39m] \u001b[38;5;241m==\u001b[39m \u001b[38;5;124m'\u001b[39m\u001b[38;5;130;01m\\n\u001b[39;00m\u001b[38;5;124m'\u001b[39m:\n",
      "\u001b[1;31mKeyboardInterrupt\u001b[0m: "
     ]
    }
   ],
   "source": [
    "def auto_type_from_file(file_path, delay=0.1, repeat = False):\n",
    "    \"\"\"\n",
    "    Gõ nội dung từ file.\n",
    "    :param file_path: Đường dẫn tới file .txt.\n",
    "    :param delay: Thời gian chờ giữa các ký tự.\n",
    "    \"\"\"\n",
    "    with open(file_path, 'r', encoding='utf-8') as f:\n",
    "        content = f.read()\n",
    "    \n",
    "    while repeat:\n",
    "        auto_type_with_pause(content, delay, ignore_newline= True)\n",
    "    \n",
    "\n",
    "# Đường dẫn file cần gõ\n",
    "# file_path = r\"./example.txt\"\n",
    "file_path = r\"C:\\Users\\thong\\workplace\\IUH\\3RDYEARCOLLEGE\\semester-2\\Ki_Nang_Su_Dung_Ban_Phim\\TypingMaster\\lessons\\uk7qwert03012key2.txt\"\n",
    "auto_type_from_file(file_path, delay=0.01, repeat=True)\n",
    "# auto_type_from_file(file_path)"
   ]
  },
  {
   "cell_type": "code",
   "execution_count": null,
   "metadata": {},
   "outputs": [],
   "source": []
  }
 ],
 "metadata": {
  "kernelspec": {
   "display_name": "Python 3",
   "language": "python",
   "name": "python3"
  },
  "language_info": {
   "codemirror_mode": {
    "name": "ipython",
    "version": 3
   },
   "file_extension": ".py",
   "mimetype": "text/x-python",
   "name": "python",
   "nbconvert_exporter": "python",
   "pygments_lexer": "ipython3",
   "version": "3.10.11"
  }
 },
 "nbformat": 4,
 "nbformat_minor": 2
}
